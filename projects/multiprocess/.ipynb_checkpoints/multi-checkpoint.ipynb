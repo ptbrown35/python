{
 "cells": [
  {
   "cell_type": "code",
   "execution_count": 11,
   "metadata": {},
   "outputs": [
    {
     "name": "stdout",
     "output_type": "stream",
     "text": [
      "Overwriting test0.py\n"
     ]
    }
   ],
   "source": [
    "%%file test0.py\n",
    "import time\n",
    "import random\n",
    "\n",
    "x = random.random() * 2\n",
    "# x = 45\n",
    "print(x)\n",
    "time.sleep(x)"
   ]
  },
  {
   "cell_type": "code",
   "execution_count": 8,
   "metadata": {},
   "outputs": [
    {
     "name": "stdout",
     "output_type": "stream",
     "text": [
      "1\n",
      "2\n",
      "3\n",
      "4\n",
      "5\n",
      "6\n",
      "7\n",
      "8\n",
      "9\n",
      "10\n",
      "11\n",
      "12\n",
      "13\n",
      "14\n",
      "15\n",
      "16\n",
      "17\n"
     ]
    }
   ],
   "source": [
    "import subprocess\n",
    "\n",
    "p = subprocess.Popen(['python', 'test0.py'])\n",
    "\n",
    "k=0\n",
    "while p.poll() is None:\n",
    "    k += 1\n",
    "    if (k%100000) == 0:\n",
    "        print(k//100000)"
   ]
  },
  {
   "cell_type": "code",
   "execution_count": 22,
   "metadata": {},
   "outputs": [
    {
     "name": "stdout",
     "output_type": "stream",
     "text": [
      "1\n",
      "spwaning new p[1]\n",
      "2\n",
      "3\n",
      "4\n",
      "spwaning new p[2]\n",
      "spwaning new p[0]\n",
      "spwaning new p[1]\n",
      "5\n",
      "spwaning new p[2]\n",
      "6\n",
      "spwaning new p[2]\n",
      "7\n",
      "8\n",
      "spwaning new p[1]\n",
      "9\n",
      "spwaning new p[2]\n",
      "spwaning new p[0]\n",
      "spwaning new p[1]\n",
      "10\n",
      "done!\n"
     ]
    }
   ],
   "source": [
    "import subprocess\n",
    "\n",
    "# p = [subprocess.Popen(['start', '/affinity', str(2**i), 'python', 'test0.py'], shell=True) for i in range(3)]\n",
    "p = [subprocess.Popen(['python', 'test0.py'], shell=True) for i in range(3)]\n",
    "\n",
    "k=0\n",
    "while (k//100000) < 10:\n",
    "    k += 1\n",
    "    if (k%100000) == 0:\n",
    "        print(k//100000)\n",
    "    \n",
    "    if p[0].poll() != None:\n",
    "        print('spwaning new p[0]')\n",
    "#         p[0] = subprocess.Popen(['start', '/affinity', str(2**0), 'python', 'test0.py'], shell=True)\n",
    "        p[0] = subprocess.Popen(['python', 'test0.py'])\n",
    "    if p[1].poll() != None:\n",
    "        print('spwaning new p[1]')\n",
    "#         p[1] = subprocess.Popen(['start', '/affinity', str(2**1), 'python', 'test0.py'], shell=True)\n",
    "        p[1] = subprocess.Popen(['python', 'test0.py'])\n",
    "    if p[2].poll() != None:\n",
    "        print('spwaning new p[2]')\n",
    "#         p[2] = subprocess.Popen(['start', '/affinity', str(2**2), 'python', 'test0.py'], shell=True)\n",
    "        p[2] = subprocess.Popen(['python', 'test0.py'])\n",
    "\n",
    "p[0].wait()\n",
    "p[1].wait()\n",
    "p[2].wait()\n",
    "\n",
    "print('done!')"
   ]
  },
  {
   "cell_type": "code",
   "execution_count": 81,
   "metadata": {},
   "outputs": [],
   "source": [
    "p = subprocess.Popen(['start', '/affinity', str(2**2), 'python', 'test0.py'], shell=True)\n",
    "# subprocess.Popen(['start', 'python', 'test0.py'])"
   ]
  },
  {
   "cell_type": "code",
   "execution_count": null,
   "metadata": {},
   "outputs": [],
   "source": []
  }
 ],
 "metadata": {
  "kernelspec": {
   "display_name": "Python 3",
   "language": "python",
   "name": "python3"
  },
  "language_info": {
   "codemirror_mode": {
    "name": "ipython",
    "version": 3
   },
   "file_extension": ".py",
   "mimetype": "text/x-python",
   "name": "python",
   "nbconvert_exporter": "python",
   "pygments_lexer": "ipython3",
   "version": "3.6.5"
  }
 },
 "nbformat": 4,
 "nbformat_minor": 2
}
